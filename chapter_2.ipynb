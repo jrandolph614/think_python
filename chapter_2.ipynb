{
 "cells": [
  {
   "cell_type": "code",
   "execution_count": 1,
   "metadata": {},
   "outputs": [
    {
     "name": "stdout",
     "output_type": "stream",
     "text": [
      "8.5\n",
      "8.5\n",
      "4.0\n",
      "11\n",
      ".....\n"
     ]
    }
   ],
   "source": [
    "#2-3\n",
    "width =17\n",
    "height = 12.0\n",
    "delimiter = '.'\n",
    "print(width/2)\n",
    "print(width/2.0)\n",
    "print(height/3)\n",
    "print(1+2 *5)\n",
    "print (delimiter*5)"
   ]
  },
  {
   "cell_type": "code",
   "execution_count": 22,
   "metadata": {},
   "outputs": [
    {
     "name": "stdout",
     "output_type": "stream",
     "text": [
      "523.5987755982989\n",
      "4441.2\n",
      "7:30\n"
     ]
    }
   ],
   "source": [
    "#2-4\n",
    "import math\n",
    "import time\n",
    "def volume_sphere(r):\n",
    "    res = (4/3)*math.pi*r**3\n",
    "    print(res)\n",
    "volume_sphere(5)\n",
    "def book():\n",
    "    base = 24.95\n",
    "    store = base*.6\n",
    "    coppies =60\n",
    "    res = store*60+3+(coppies*59)\n",
    "    print(res)\n",
    "book()\n",
    "def run():\n",
    "    mile1 = 60*8+15\n",
    "    mile2_4 = (60*7+12)*3\n",
    "    mile5 = 60*8+15\n",
    "    total = mile1+mile2_4+mile5\n",
    "    print(\"7\"+\":\"+str(total//60-8))\n",
    "run()"
   ]
  },
  {
   "cell_type": "code",
   "execution_count": null,
   "metadata": {},
   "outputs": [],
   "source": []
  }
 ],
 "metadata": {
  "kernelspec": {
   "display_name": "Python 3",
   "language": "python",
   "name": "python3"
  },
  "language_info": {
   "codemirror_mode": {
    "name": "ipython",
    "version": 3
   },
   "file_extension": ".py",
   "mimetype": "text/x-python",
   "name": "python",
   "nbconvert_exporter": "python",
   "pygments_lexer": "ipython3",
   "version": "3.8.5"
  }
 },
 "nbformat": 4,
 "nbformat_minor": 4
}
