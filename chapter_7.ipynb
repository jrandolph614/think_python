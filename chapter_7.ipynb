{
 "cells": [
  {
   "cell_type": "code",
   "execution_count": 3,
   "metadata": {},
   "outputs": [
    {
     "name": "stdout",
     "output_type": "stream",
     "text": [
      "0 0.0 0.0 0.0\n",
      "1 1.0 1.0 0.0\n",
      "2 1.4142135623730951 1.4142135623730951 0.0\n",
      "3 1.7320508075688772 1.7320508075688772 0.0\n",
      "4 2.0 2.0 0.0\n",
      "5 2.23606797749979 2.23606797749979 0.0\n",
      "6 2.449489742783178 2.449489742783178 0.0\n",
      "7 2.6457513110645907 2.6457513110645907 0.0\n",
      "8 2.8284271247461903 2.8284271247461903 0.0\n",
      "9 3.0 3.0 0.0\n"
     ]
    }
   ],
   "source": [
    "#7-3\n",
    "def test_square_root(n):\n",
    "    import math\n",
    "    q = n**(1/2)\n",
    "    z= math.sqrt(n)\n",
    "    print(n,q,z,abs(q-z))\n",
    "for i in range(10):\n",
    "    test_square_root(i)"
   ]
  },
  {
   "cell_type": "code",
   "execution_count": 8,
   "metadata": {},
   "outputs": [
    {
     "name": "stdin",
     "output_type": "stream",
     "text": [
      "please enter math string 1+2+3\n"
     ]
    },
    {
     "name": "stdout",
     "output_type": "stream",
     "text": [
      "6\n"
     ]
    },
    {
     "name": "stdin",
     "output_type": "stream",
     "text": [
      "please enter math string 3**2\n"
     ]
    },
    {
     "name": "stdout",
     "output_type": "stream",
     "text": [
      "9\n"
     ]
    },
    {
     "name": "stdin",
     "output_type": "stream",
     "text": [
      "please enter math string done\n"
     ]
    }
   ],
   "source": [
    "#7-4\n",
    "def eval_loop():\n",
    "    while True:\n",
    "        n=input('please enter math string')\n",
    "        if n == 'done':\n",
    "            break\n",
    "        else:\n",
    "            print(eval(n))\n",
    "eval_loop()"
   ]
  },
  {
   "cell_type": "code",
   "execution_count": 9,
   "metadata": {},
   "outputs": [
    {
     "data": {
      "text/plain": [
       "3.141592653589793"
      ]
     },
     "execution_count": 9,
     "metadata": {},
     "output_type": "execute_result"
    }
   ],
   "source": [
    "#7-5\n",
    "def factorial(n):\n",
    "    if n==0:\n",
    "        return 1\n",
    "    else:\n",
    "        recurse = factorial(n-1)\n",
    "        result = n*recurse\n",
    "        return result\n",
    "def estimate_pi():\n",
    "    total =0\n",
    "    k=0\n",
    "    factor = 2*math.sqrt(2)/9801\n",
    "    while True:\n",
    "        num = factorial(4*k) * (1103 + 26390*k)\n",
    "        den = factorial(k)**4 * 396**(4*k)\n",
    "        term = factor * num/den\n",
    "        total += term\n",
    "        if abs(term) < 1e-15: break\n",
    "        k +=1\n",
    "    return 1/total\n",
    "estimate_pi()"
   ]
  },
  {
   "cell_type": "code",
   "execution_count": null,
   "metadata": {},
   "outputs": [],
   "source": []
  }
 ],
 "metadata": {
  "kernelspec": {
   "display_name": "Python 3",
   "language": "python",
   "name": "python3"
  },
  "language_info": {
   "codemirror_mode": {
    "name": "ipython",
    "version": 3
   },
   "file_extension": ".py",
   "mimetype": "text/x-python",
   "name": "python",
   "nbconvert_exporter": "python",
   "pygments_lexer": "ipython3",
   "version": "3.8.5"
  }
 },
 "nbformat": 4,
 "nbformat_minor": 4
}
