{
 "cells": [
  {
   "cell_type": "code",
   "execution_count": 14,
   "metadata": {},
   "outputs": [],
   "source": [
    "a=1\n",
    "b=2\n",
    "c=3\n",
    "n =2\n",
    "\n"
   ]
  },
  {
   "cell_type": "code",
   "execution_count": 17,
   "metadata": {},
   "outputs": [],
   "source": [
    "#5-3\n",
    "def check_fermat():\n",
    "    a = int(input('please input an a value'))\n",
    "    b = int(input('please input an b value'))\n",
    "    c = int(input('please input an c value'))\n",
    "    n = int(input('please input an n value'))\n",
    "    if a**n+b**n==c*n:\n",
    "        print('Holy smokes Fermat was wrong!')\n",
    "    else:\n",
    "        print('No, that doesnt work.')\n",
    "check_fermat()"
   ]
  },
  {
   "cell_type": "code",
   "execution_count": 18,
   "metadata": {},
   "outputs": [],
   "source": [
    "#5-4\n",
    "def is_triangle():\n",
    "    a = int(input('please input an a value'))\n",
    "    b = int(input('please input an b value'))\n",
    "    c = int(input('please input an c value'))\n",
    "    if a>b+c:\n",
    "        print('No')\n",
    "    elif b>a+c:\n",
    "        print('No')\n",
    "    elif c>a+b:\n",
    "        print('No')\n",
    "    else: \n",
    "        print('yes')"
   ]
  },
  {
   "cell_type": "code",
   "execution_count": 22,
   "metadata": {},
   "outputs": [],
   "source": [
    "def draw(t, length, n):\n",
    "    if n == 0:\n",
    "        return\n",
    "        angle = 50\n",
    "        fd(t, length*n)\n",
    "        lt(t, angle)\n",
    "        draw(t, length, n-1)\n",
    "        rt(t, 2*angle)\n",
    "        draw(t, length, n-1)\n",
    "        lt(t, angle)\n",
    "        bk(t, length*n)\n",
    "draw(10,8,5)"
   ]
  },
  {
   "cell_type": "code",
   "execution_count": null,
   "metadata": {},
   "outputs": [],
   "source": []
  }
 ],
 "metadata": {
  "kernelspec": {
   "display_name": "Python 3",
   "language": "python",
   "name": "python3"
  },
  "language_info": {
   "codemirror_mode": {
    "name": "ipython",
    "version": 3
   },
   "file_extension": ".py",
   "mimetype": "text/x-python",
   "name": "python",
   "nbconvert_exporter": "python",
   "pygments_lexer": "ipython3",
   "version": "3.8.5"
  }
 },
 "nbformat": 4,
 "nbformat_minor": 4
}
