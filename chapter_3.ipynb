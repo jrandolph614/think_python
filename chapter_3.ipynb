{
 "cells": [
  {
   "cell_type": "code",
   "execution_count": 5,
   "metadata": {},
   "outputs": [
    {
     "name": "stdout",
     "output_type": "stream",
     "text": [
      "                                                                 steam\n"
     ]
    }
   ],
   "source": [
    "#3-3\n",
    "def right_justify(s):\n",
    "    length =len(s)\n",
    "    delimiter = \" \"\n",
    "    print(delimiter*(70-length)+s)\n",
    "right_justify('steam')\n"
   ]
  },
  {
   "cell_type": "code",
   "execution_count": 9,
   "metadata": {},
   "outputs": [
    {
     "name": "stdout",
     "output_type": "stream",
     "text": [
      "spam\n",
      "spam\n",
      "spam\n",
      "spam\n"
     ]
    }
   ],
   "source": [
    "#3-4\n",
    "def do_twice(f,val):\n",
    "    f(val)\n",
    "    f(val)\n",
    "def print_twice(string):\n",
    "    print(string)\n",
    "    print(string)\n",
    "do_twice(print_twice,'spam')\n",
    "def do_four(f,val):\n",
    "    do_twice(f,val)\n",
    "    do_twice(f,val)"
   ]
  },
  {
   "cell_type": "code",
   "execution_count": 15,
   "metadata": {},
   "outputs": [
    {
     "ename": "SyntaxError",
     "evalue": "invalid syntax (<ipython-input-15-b0b7f87a1db0>, line 11)",
     "output_type": "error",
     "traceback": [
      "\u001b[1;36m  File \u001b[1;32m\"<ipython-input-15-b0b7f87a1db0>\"\u001b[1;36m, line \u001b[1;32m11\u001b[0m\n\u001b[1;33m    def final()\u001b[0m\n\u001b[1;37m               ^\u001b[0m\n\u001b[1;31mSyntaxError\u001b[0m\u001b[1;31m:\u001b[0m invalid syntax\n"
     ]
    }
   ],
   "source": [
    "#3-5\n",
    "def dash():\n",
    "    point = \"+\"\n",
    "    dash = '-'\n",
    "    print(point,dash*4,point,dash*4,point)\n",
    "    #print(line)\n",
    "def body():\n",
    "    point ='|'\n",
    "    dash =' '\n",
    "    print(point,dash*4,point,dash*4,point)\n",
    "def body_final():\n",
    "    body()\n",
    "    body()\n",
    "    body()\n",
    "    body()\n",
    "def final():\n",
    "    dash()\n",
    "    body_final()\n",
    "    dash()\n",
    "    body_final()"
   ]
  },
  {
   "cell_type": "code",
   "execution_count": null,
   "metadata": {},
   "outputs": [],
   "source": []
  }
 ],
 "metadata": {
  "kernelspec": {
   "display_name": "Python 3",
   "language": "python",
   "name": "python3"
  },
  "language_info": {
   "codemirror_mode": {
    "name": "ipython",
    "version": 3
   },
   "file_extension": ".py",
   "mimetype": "text/x-python",
   "name": "python",
   "nbconvert_exporter": "python",
   "pygments_lexer": "ipython3",
   "version": "3.8.5"
  }
 },
 "nbformat": 4,
 "nbformat_minor": 4
}
